{
 "cells": [
  {
   "cell_type": "markdown",
   "metadata": {},
   "source": [
    "## Setup"
   ]
  },
  {
   "cell_type": "code",
   "execution_count": 39,
   "metadata": {},
   "outputs": [],
   "source": [
    "# Import Gymnasium\n",
    "import gymnasium as gym\n",
    "\n",
    "# Import Wrappers\n",
    "from gymnasium.wrappers import GrayScaleObservation # Wrapper to convert RGB image to grayscale\n",
    "from stable_baselines3.common.vec_env import VecFrameStack, DummyVecEnv # VecFrameStack is a wrapper that stacks the last n frames\n",
    "\n",
    "# Import Algorithms for Training\n",
    "from stable_baselines3 import PPO # Proximal Policy Optimization (PPO) algorithm\n",
    "\n",
    "# Additional Imports\n",
    "import os # File management\n",
    "from stable_baselines3.common.callbacks import BaseCallback # Callbacks for saving models\n",
    "from matplotlib import pyplot as plt"
   ]
  },
  {
   "cell_type": "code",
   "execution_count": 40,
   "metadata": {},
   "outputs": [],
   "source": [
    "# Custom class to make saving models easier\n",
    "class TrainAndLoggingCallback(BaseCallback):\n",
    "\n",
    "  def __init__(self, check_freq, save_path, verbose=1):\n",
    "    super(TrainAndLoggingCallback, self).__init__(verbose)\n",
    "    self.check_freq = check_freq\n",
    "    self.save_path = save_path\n",
    "\n",
    "  def _init_callback(self):\n",
    "    if self.save_path is not None:\n",
    "      os.makedirs(self.save_path, exist_ok=True)\n",
    "\n",
    "  def _on_step(self):\n",
    "    if self.n_calls % self.check_freq == 0:\n",
    "      model_path = os.path.join(self.save_path, 'best_model_{}'.format(self.n_calls))\n",
    "      self.model.save(model_path)\n",
    "\n",
    "    return True"
   ]
  },
  {
   "cell_type": "code",
   "execution_count": 41,
   "metadata": {},
   "outputs": [],
   "source": [
    "CHECKPOINT_DIR = 'checkpoints' # Directory to save models\n",
    "LOG_DIR = 'logs'"
   ]
  },
  {
   "cell_type": "markdown",
   "metadata": {},
   "source": [
    "## Model Initialization"
   ]
  },
  {
   "cell_type": "code",
   "execution_count": null,
   "metadata": {},
   "outputs": [],
   "source": [
    "# Define model parameters\n",
    "game = \"ALE/SpaceInvaders-v5\"\n",
    "# game = \"ALE/Tetris-v5\"\n",
    "\n",
    "learning_rate = 0.000001\n",
    "model_memory = 4\n",
    "\n",
    "\n",
    "\n",
    "\n",
    "# Create the environment, and appy all wrappers\n",
    "env = gym.make(game)\n",
    "env = GrayScaleObservation(env, keep_dim=True)                # Grayscale Wrapper to reduce the number of features\n",
    "env = DummyVecEnv([lambda: env])                              # Wrapper to vectorize the environment (allows for multiple parallel environments)\n",
    "env = VecFrameStack(env, model_memory, channels_order='last') # FrameStack Wrapper to remember the last n frames\n",
    "\n",
    "# Initializes the environment and returns the initial observation\n",
    "init_obs = env.reset()\n",
    "\n",
    "# Setup model saving\n",
    "callback = TrainAndLoggingCallback(check_freq=10000, save_path=CHECKPOINT_DIR)\n",
    "\n",
    "# Initialize the model\n",
    "model = PPO('CnnPolicy', env, verbose=1, learning_rate=learning_rate, tensorboard_log=LOG_DIR, n_steps=512)"
   ]
  },
  {
   "cell_type": "markdown",
   "metadata": {},
   "source": [
    "## Testing"
   ]
  },
  {
   "cell_type": "code",
   "execution_count": 36,
   "metadata": {},
   "outputs": [
    {
     "data": {
      "image/png": "[encoded data removed]",
      "text/plain": [
       "<Figure size 1600x800 with 4 Axes>"
      ]
     },
     "metadata": {},
     "output_type": "display_data"
    }
   ],
   "source": [
    "num_stacks = 4 # number of recent frames to keep in memory for the agent to use\n",
    "\n",
    "### Setup Environment\n",
    "# Create the base game environment\n",
    "env = gym.make(\"ALE/SpaceInvaders-v5\")\n",
    "# env = gym.make(\"ALE/Tetris-v5\")\n",
    "\n",
    "# Grayscale Wrapper to reduce the number of features\n",
    "env = GrayScaleObservation(env, keep_dim=True)\n",
    "\n",
    "# Wrapper to vectorize the environment (allows for multiple parallel environments)\n",
    "env = DummyVecEnv([lambda: env])\n",
    "\n",
    "# FrameStack Wrapper to stack the last n frames\n",
    "env = VecFrameStack(env, num_stacks, channels_order='last')\n",
    "\n",
    "\n",
    "# Resets (initializes) the environment and returns the initial observation\n",
    "init_obs = env.reset()\n",
    "\n",
    "# Takes a couple random actions\n",
    "num_actions = 100\n",
    "for _ in range(num_actions):\n",
    "  # decides what to do for the current action\n",
    "  action = env.action_space.sample()\n",
    "  # Takes the current action in the environment\n",
    "  next_obs, rewards, dones, infos = env.step([action]) # method expects an array as input (with a batch size corresponding to the number of environments)\n",
    "\n",
    "\n",
    "\n",
    "# print(init_obs.shape) # (1, 210, 160, num_stacks)\n",
    "# Visualize the most recent frame\n",
    "# plt.imshow(next_obs[0, :, :, num_stacks - 1], cmap='gray')\n",
    "\n",
    "# Visualize the last 'num_stacks' frames\n",
    "plt.figure(figsize=(16, 8))\n",
    "for i in range(num_stacks):\n",
    "  plt.subplot(1, num_stacks, i + 1)\n",
    "  plt.imshow(next_obs[0, :, :, i], cmap='gray')\n",
    "  plt.axis('off')\n",
    "\n",
    "\n",
    "env.close()"
   ]
  }
 ],
 "metadata": {
  "kernelspec": {
   "display_name": "Python 3",
   "language": "python",
   "name": "python3"
  },
  "language_info": {
   "codemirror_mode": {
    "name": "ipython",
    "version": 3
   },
   "file_extension": ".py",
   "mimetype": "text/x-python",
   "name": "python",
   "nbconvert_exporter": "python",
   "pygments_lexer": "ipython3",
   "version": "3.11.5"
  },
  "orig_nbformat": 4
 },
 "nbformat": 4,
 "nbformat_minor": 2
}
